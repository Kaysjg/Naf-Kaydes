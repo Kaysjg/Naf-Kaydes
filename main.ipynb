{
 "cells": [
  {
   "cell_type": "code",
   "execution_count": 46,
   "metadata": {},
   "outputs": [
    {
     "data": {
      "text/plain": [
       "'It is decision of \"Titanik\" from Kaggle: \"https://www.kaggle.com/competitions/titanic\".'"
      ]
     },
     "execution_count": 46,
     "metadata": {},
     "output_type": "execute_result"
    }
   ],
   "source": [
    "'''It is decision of \"Titanik\" from Kaggle: \"https://www.kaggle.com/competitions/titanic\".'''"
   ]
  },
  {
   "cell_type": "code",
   "execution_count": 47,
   "metadata": {},
   "outputs": [],
   "source": [
    "import pandas as pd\n",
    "\n",
    "from matplotlib import pyplot as plt\n",
    "import seaborn as sns\n",
    "\n",
    "from functions_for_titanik import *"
   ]
  },
  {
   "cell_type": "code",
   "execution_count": 48,
   "metadata": {},
   "outputs": [],
   "source": [
    "#Path to data\n",
    "\n",
    "PATH_TO_TRAIN = \"kaggle_data/train.csv\"\n",
    "PATH_TO_TEST = \"kaggle_data/test.csv\""
   ]
  },
  {
   "cell_type": "code",
   "execution_count": 49,
   "metadata": {},
   "outputs": [],
   "source": [
    "#Loading data\n",
    "\n",
    "train_data = pd.read_csv(PATH_TO_TRAIN, index_col=\"PassengerId\") # Training sample\n",
    "test_data = pd.read_csv(PATH_TO_TEST, index_col=\"PassengerId\")   # Test sample"
   ]
  },
  {
   "cell_type": "code",
   "execution_count": 50,
   "metadata": {},
   "outputs": [],
   "source": [
    "#Checking the data status #1\n",
    "# print(\"train_data:\")\n",
    "# train_data.info()\n",
    "# print(\" \\ntest_data:\")\n",
    "# test_data.info()"
   ]
  },
  {
   "cell_type": "code",
   "execution_count": 51,
   "metadata": {},
   "outputs": [],
   "source": [
    "#Drop useless columns\n",
    "\n",
    "useless_columns = [\"Name\", \"Ticket\", \"Cabin\"] #There is very little data in the \"Cabin\"\n",
    "\n",
    "train_data_clean = train_data.drop(columns=useless_columns)\n",
    "test_data_clean = test_data.drop(columns=useless_columns)"
   ]
  },
  {
   "cell_type": "code",
   "execution_count": 72,
   "metadata": {},
   "outputs": [],
   "source": [
    "#Inputing NaN data\n",
    "\n",
    "train_data_full = inpute_data(train_data_clean)\n",
    "test_data_full = inpute_data(test_data_clean)"
   ]
  },
  {
   "cell_type": "code",
   "execution_count": 53,
   "metadata": {},
   "outputs": [],
   "source": [
    "#Checking the data status #2\n",
    "# print(\"train_data_full:\")\n",
    "# train_data_full.info()\n",
    "# print(\" \\ntest_data_full:\")\n",
    "# test_data_full.info()"
   ]
  },
  {
   "cell_type": "code",
   "execution_count": 54,
   "metadata": {},
   "outputs": [],
   "source": [
    "#Data visualization\n",
    "\n",
    "# sns.catplot(data=train_data_full, x=\"Sex\", hue=\"Survived\", kind=\"count\") #Men die more often"
   ]
  },
  {
   "cell_type": "code",
   "execution_count": 55,
   "metadata": {},
   "outputs": [],
   "source": [
    "# sns.catplot(data=train_data_full, x=\"Pclass\", hue=\"Survived\", kind=\"count\") #The poor also die more often"
   ]
  },
  {
   "cell_type": "code",
   "execution_count": 56,
   "metadata": {},
   "outputs": [],
   "source": [
    "# sns.catplot(data=train_data_full, x=\"Pclass\", hue=\"Pclass\", kind=\"count\") #At the same time, the poor were the most"
   ]
  },
  {
   "cell_type": "code",
   "execution_count": 57,
   "metadata": {},
   "outputs": [],
   "source": [
    "# sns.catplot(data=train_data_full, x=\"Pclass\", hue=\"Sex\", kind=\"count\")  #The poor man were the most"
   ]
  },
  {
   "cell_type": "code",
   "execution_count": 58,
   "metadata": {},
   "outputs": [],
   "source": [
    "# sns.catplot(data=train_data_full, x=\"Sex\", y=\"Survived\", hue=\"Sex\", col=\"Pclass\", kind=\"bar\", errorbar=None)  #And the dead among them were the most"
   ]
  },
  {
   "cell_type": "code",
   "execution_count": 59,
   "metadata": {},
   "outputs": [],
   "source": [
    "# Survival also depends on the number of families\n",
    "\n",
    "# sns.catplot(data=train_data_full, x=\"SibSp\", hue=\"Survived\", kind=\"count\") # Here they are siblings/spouses"
   ]
  },
  {
   "cell_type": "code",
   "execution_count": 60,
   "metadata": {},
   "outputs": [],
   "source": [
    "# sns.catplot(data=train_data_full, x=\"Parch\", hue=\"Survived\", kind=\"count\") # Here it's parents/children"
   ]
  },
  {
   "cell_type": "code",
   "execution_count": 61,
   "metadata": {},
   "outputs": [],
   "source": [
    "# Feature Engineering \"SibSp\" and \"Parch\"\n",
    "\n",
    "train_data_full[\"Family_size\"] = train_data_full[\"SibSp\"] + train_data_full[\"Parch\"]\n",
    "test_data_full[\"Family_size\"] = test_data_full[\"SibSp\"] + test_data_full[\"Parch\"]\n",
    "\n",
    "# sns.catplot(data=train_data_full, x=\"Family_size\", hue=\"Survived\", kind=\"count\")"
   ]
  },
  {
   "cell_type": "code",
   "execution_count": 62,
   "metadata": {},
   "outputs": [],
   "source": [
    "# sns.catplot(data=train_data_full, x=\"Family_size\", hue=\"Survived\", col=\"Sex\", kind=\"count\") # Family_size doesn't affect the survival of men"
   ]
  },
  {
   "cell_type": "code",
   "execution_count": 63,
   "metadata": {},
   "outputs": [],
   "source": [
    "#Save data\n",
    "\n",
    "train_data_full.to_csv(\"train_data_full\")\n",
    "test_data_full.to_csv(\"test_data_full\")"
   ]
  },
  {
   "cell_type": "code",
   "execution_count": 64,
   "metadata": {},
   "outputs": [
    {
     "data": {
      "text/plain": [
       "array([0, 1, 1, 0, 1, 0, 1, 1, 1, 0, 0, 1, 1, 1, 1, 1, 1, 0, 1, 1, 1, 0,\n",
       "       1, 1, 1, 0, 1, 0, 1, 0, 1, 1, 1, 1, 1, 0, 1, 1, 0, 0, 0, 1, 0, 1,\n",
       "       1, 0, 1, 0, 1, 1, 1, 1, 1, 1, 1, 0, 0, 0, 0, 1, 0, 1, 0, 1, 1, 1,\n",
       "       1, 1, 1, 1, 1, 0, 1, 1, 1, 1, 0, 1, 1, 1, 0, 1, 1, 0, 1, 0, 1, 1,\n",
       "       1, 1, 1, 0, 1, 0, 1, 0, 1, 0, 1, 0, 1, 1, 0, 0, 1, 0, 0, 0, 0, 1,\n",
       "       1, 1, 1, 1, 1, 0, 0, 1, 1, 1, 1, 0, 1, 0, 0, 1, 0, 1, 1, 0, 0, 1,\n",
       "       1, 0, 0, 0, 0, 1, 1, 0, 1, 1, 1, 1, 1, 0, 1, 0, 1, 1, 1, 0, 0, 1,\n",
       "       0, 0, 1, 1, 1, 1, 1, 0, 1, 0, 1, 1, 1, 0, 1, 1, 0, 0, 0, 0, 0, 1,\n",
       "       1, 1, 1, 1, 1, 1, 1, 0, 1, 1, 1, 0, 1, 1, 1, 1, 0, 1, 1, 0, 1, 1,\n",
       "       1, 1, 1, 0, 1, 1, 1, 1, 1, 1, 1, 0, 0, 0, 1, 1, 1, 1, 1, 1, 1, 0,\n",
       "       1, 0, 1, 0, 1, 1, 0, 1, 0, 1, 1, 1, 0, 0, 1, 0, 1, 0, 1, 1, 1, 1,\n",
       "       1, 0, 0, 1, 1, 1, 1, 1, 1, 0, 1, 0, 0, 0, 0, 0, 1, 0, 0, 0, 1, 1,\n",
       "       1, 0, 1, 0, 1, 0, 1, 0, 1, 1, 0, 1, 1, 1, 1, 1, 1, 0, 1, 1, 1, 0,\n",
       "       0, 1, 0, 0, 1, 1, 0, 1, 0, 0, 1, 0, 1, 0, 0, 1, 1, 0, 1, 1, 1, 0,\n",
       "       1, 1, 0, 0, 0, 1, 1, 1, 1, 1, 0, 1, 0, 0, 1, 1, 1, 0, 1, 1, 1, 1,\n",
       "       1, 1, 0, 1, 0, 1, 1, 0, 1, 0, 1, 0, 0, 1, 0, 1, 1, 1, 1, 1, 1, 1,\n",
       "       1, 1, 1, 1, 1, 0, 0, 1, 0, 1, 1, 0, 1, 1, 0, 1, 1, 1, 1, 1, 1, 1,\n",
       "       1, 1, 1, 1, 1, 0, 0, 0, 1, 1, 1, 1, 0, 1, 0, 0, 1, 1, 0, 1, 0, 1,\n",
       "       0, 1, 0, 0, 1, 1, 1, 1, 1, 1, 1, 1, 1, 1, 1, 1, 1, 0, 1, 0, 0, 0])"
      ]
     },
     "execution_count": 64,
     "metadata": {},
     "output_type": "execute_result"
    }
   ],
   "source": [
    "# Dicision trump\n",
    "\n",
    "(~((test_data_full[\"Sex\"] == \"male\") & (test_data_full[\"Pclass\"] == 3))).astype(int).values"
   ]
  }
 ],
 "metadata": {
  "kernelspec": {
   "display_name": "Python 3",
   "language": "python",
   "name": "python3"
  },
  "language_info": {
   "codemirror_mode": {
    "name": "ipython",
    "version": 3
   },
   "file_extension": ".py",
   "mimetype": "text/x-python",
   "name": "python",
   "nbconvert_exporter": "python",
   "pygments_lexer": "ipython3",
   "version": "3.11.2"
  },
  "orig_nbformat": 4
 },
 "nbformat": 4,
 "nbformat_minor": 2
}
