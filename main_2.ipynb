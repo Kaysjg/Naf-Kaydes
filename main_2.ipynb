{
 "cells": [
  {
   "cell_type": "code",
   "execution_count": 1,
   "metadata": {},
   "outputs": [
    {
     "data": {
      "text/plain": [
       "'It is decision of \"Titanik\" from Kaggle: \"https://www.kaggle.com/competitions/titanic\".'"
      ]
     },
     "execution_count": 1,
     "metadata": {},
     "output_type": "execute_result"
    }
   ],
   "source": [
    "'''It is decision of \"Titanik\" from Kaggle: \"https://www.kaggle.com/competitions/titanic\".'''"
   ]
  },
  {
   "cell_type": "code",
   "execution_count": 2,
   "metadata": {},
   "outputs": [],
   "source": [
    "import pandas as pd\n",
    "\n",
    "from matplotlib import pyplot as plt\n",
    "import seaborn as sns\n",
    "\n",
    "from functions_for_titanik import inpute_data, make_prediction_file"
   ]
  },
  {
   "cell_type": "code",
   "execution_count": 3,
   "metadata": {},
   "outputs": [],
   "source": [
    "#Path to data\n",
    "\n",
    "PATH_TO_TRAIN = \"kaggle_data/train.csv\"\n",
    "PATH_TO_TEST = \"kaggle_data/test.csv\""
   ]
  },
  {
   "cell_type": "code",
   "execution_count": 4,
   "metadata": {},
   "outputs": [],
   "source": [
    "#Loading data\n",
    "\n",
    "train_data = pd.read_csv(PATH_TO_TRAIN, index_col=\"PassengerId\") # Training sample\n",
    "test_data = pd.read_csv(PATH_TO_TEST, index_col=\"PassengerId\")   # Test sample"
   ]
  },
  {
   "cell_type": "code",
   "execution_count": 5,
   "metadata": {},
   "outputs": [],
   "source": [
    "#Checking the data status #1\n",
    "# print(\"train_data:\")\n",
    "# train_data.info()\n",
    "# print(\" \\ntest_data:\")\n",
    "# test_data.info()"
   ]
  },
  {
   "cell_type": "code",
   "execution_count": 6,
   "metadata": {},
   "outputs": [],
   "source": [
    "#Drop useless columns\n",
    "\n",
    "useless_columns = [\"Name\", \"Ticket\", \"Cabin\"] #There is very little data in the \"Cabin\"\n",
    "\n",
    "train_data_clean = train_data.drop(columns=useless_columns)\n",
    "test_data_clean = test_data.drop(columns=useless_columns)"
   ]
  },
  {
   "cell_type": "code",
   "execution_count": 7,
   "metadata": {},
   "outputs": [],
   "source": [
    "#Inputing NaN data\n",
    "\n",
    "train_data_full = inpute_data(train_data_clean)\n",
    "test_data_full = inpute_data(test_data_clean)"
   ]
  },
  {
   "cell_type": "code",
   "execution_count": 8,
   "metadata": {},
   "outputs": [],
   "source": [
    "#Checking the data status #2\n",
    "# print(\"train_data_full:\")\n",
    "# train_data_full.info()\n",
    "# print(\" \\ntest_data_full:\")\n",
    "# test_data_full.info()"
   ]
  },
  {
   "cell_type": "code",
   "execution_count": 9,
   "metadata": {},
   "outputs": [],
   "source": [
    "#Data visualization\n",
    "\n",
    "# sns.catplot(data=train_data_full, x=\"Sex\", hue=\"Survived\", kind=\"count\") #Men die more often"
   ]
  },
  {
   "cell_type": "code",
   "execution_count": 10,
   "metadata": {},
   "outputs": [],
   "source": [
    "# sns.catplot(data=train_data_full, x=\"Pclass\", hue=\"Survived\", kind=\"count\") #The poor also die more often"
   ]
  },
  {
   "cell_type": "code",
   "execution_count": 11,
   "metadata": {},
   "outputs": [],
   "source": [
    "# sns.catplot(data=train_data_full, x=\"Pclass\", hue=\"Pclass\", kind=\"count\") #At the same time, the poor were the most"
   ]
  },
  {
   "cell_type": "code",
   "execution_count": 12,
   "metadata": {},
   "outputs": [],
   "source": [
    "# sns.catplot(data=train_data_full, x=\"Pclass\", hue=\"Sex\", kind=\"count\")  #The poor man were the most"
   ]
  },
  {
   "cell_type": "code",
   "execution_count": 13,
   "metadata": {},
   "outputs": [],
   "source": [
    "# sns.catplot(data=train_data_full, x=\"Sex\", y=\"Survived\", hue=\"Sex\", col=\"Pclass\", kind=\"bar\", errorbar=None)  #And the dead among them were the most"
   ]
  },
  {
   "cell_type": "code",
   "execution_count": 14,
   "metadata": {},
   "outputs": [],
   "source": [
    "# Survival also depends on the number of families\n",
    "\n",
    "# sns.catplot(data=train_data_full, x=\"SibSp\", hue=\"Survived\", kind=\"count\") # Here they are siblings/spouses"
   ]
  },
  {
   "cell_type": "code",
   "execution_count": 15,
   "metadata": {},
   "outputs": [],
   "source": [
    "# sns.catplot(data=train_data_full, x=\"Parch\", hue=\"Survived\", kind=\"count\") # Here it's parents/children"
   ]
  },
  {
   "cell_type": "code",
   "execution_count": 16,
   "metadata": {},
   "outputs": [],
   "source": [
    "# Feature Engineering \"SibSp\" and \"Parch\"\n",
    "\n",
    "train_data_full[\"Family_size\"] = train_data_full[\"SibSp\"] + train_data_full[\"Parch\"]\n",
    "test_data_full[\"Family_size\"] = test_data_full[\"SibSp\"] + test_data_full[\"Parch\"]\n",
    "\n",
    "# sns.catplot(data=train_data_full, x=\"Family_size\", hue=\"Survived\", kind=\"count\")"
   ]
  },
  {
   "cell_type": "code",
   "execution_count": 17,
   "metadata": {},
   "outputs": [],
   "source": [
    "# sns.catplot(data=train_data_full, x=\"Family_size\", hue=\"Survived\", col=\"Sex\", kind=\"count\") # Family_size doesn't affect the survival of men"
   ]
  },
  {
   "cell_type": "code",
   "execution_count": 18,
   "metadata": {},
   "outputs": [],
   "source": [
    "#Save data\n",
    "\n",
    "train_data_full.to_csv(\"train_data_inputed\")\n",
    "test_data_full.to_csv(\"test_data_inputed\")"
   ]
  }
 ],
 "metadata": {
  "kernelspec": {
   "display_name": "Python 3",
   "language": "python",
   "name": "python3"
  },
  "language_info": {
   "codemirror_mode": {
    "name": "ipython",
    "version": 3
   },
   "file_extension": ".py",
   "mimetype": "text/x-python",
   "name": "python",
   "nbconvert_exporter": "python",
   "pygments_lexer": "ipython3",
   "version": "3.11.2"
  },
  "orig_nbformat": 4
 },
 "nbformat": 4,
 "nbformat_minor": 2
}
