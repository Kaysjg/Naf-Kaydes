{
 "cells": [
  {
   "cell_type": "code",
   "execution_count": 22,
   "metadata": {},
   "outputs": [
    {
     "data": {
      "text/plain": [
       "'It is decision of \"Titanik\" from Kaggle: \"https://www.kaggle.com/competitions/titanic\".'"
      ]
     },
     "execution_count": 22,
     "metadata": {},
     "output_type": "execute_result"
    }
   ],
   "source": [
    "'''It is decision of \"Titanik\" from Kaggle: \"https://www.kaggle.com/competitions/titanic\".'''"
   ]
  },
  {
   "cell_type": "code",
   "execution_count": 23,
   "metadata": {},
   "outputs": [],
   "source": [
    "import pandas as pd\n",
    "\n",
    "from matplotlib import pyplot as plt\n",
    "import seaborn as sns\n",
    "\n",
    "from functions_for_titanik import *"
   ]
  },
  {
   "cell_type": "code",
   "execution_count": 24,
   "metadata": {},
   "outputs": [],
   "source": [
    "#Path to data\n",
    "\n",
    "PATH_TO_TRAIN = \"data/train.csv\"\n",
    "PATH_TO_TEST = \"data/test.csv\""
   ]
  },
  {
   "cell_type": "code",
   "execution_count": 25,
   "metadata": {},
   "outputs": [],
   "source": [
    "#Loading data\n",
    "\n",
    "train_data = pd.read_csv(PATH_TO_TRAIN, index_col=\"PassengerId\") # Training sample\n",
    "test_data = pd.read_csv(PATH_TO_TEST, index_col=\"PassengerId\")   # Test sample"
   ]
  },
  {
   "cell_type": "code",
   "execution_count": 26,
   "metadata": {},
   "outputs": [],
   "source": [
    "#Drop useless columns\n",
    "\n",
    "useless_columns = [\"Name\", \"Ticket\", \"Cabin\"] #There is very little data in the \"Cabin\"\n",
    "\n",
    "train_data_clean = train_data.drop(columns=useless_columns)\n",
    "test_data_clean = test_data.drop(columns=useless_columns)"
   ]
  },
  {
   "cell_type": "code",
   "execution_count": 30,
   "metadata": {},
   "outputs": [],
   "source": [
    "#Inputing NaN data\n",
    "\n",
    "train_data_full = inpute_data(train_data_clean)\n",
    "test_data_full = inpute_data(test_data_clean)"
   ]
  },
  {
   "cell_type": "code",
   "execution_count": null,
   "metadata": {},
   "outputs": [],
   "source": []
  }
 ],
 "metadata": {
  "kernelspec": {
   "display_name": "Python 3",
   "language": "python",
   "name": "python3"
  },
  "language_info": {
   "codemirror_mode": {
    "name": "ipython",
    "version": 3
   },
   "file_extension": ".py",
   "mimetype": "text/x-python",
   "name": "python",
   "nbconvert_exporter": "python",
   "pygments_lexer": "ipython3",
   "version": "3.11.2"
  },
  "orig_nbformat": 4
 },
 "nbformat": 4,
 "nbformat_minor": 2
}
