{
 "cells": [
  {
   "cell_type": "code",
   "execution_count": null,
   "metadata": {},
   "outputs": [],
   "source": [
    "'''We won't consider decision trump and simple decision tree due to lower results than other models by metric kaggle(accuracy): accordingly ~59% и ~70% unlike ~76%.'''"
   ]
  },
  {
   "cell_type": "code",
   "execution_count": null,
   "metadata": {},
   "outputs": [],
   "source": [
    "import pandas as pd\n",
    "\n",
    "from sklearn.tree import DecisionTreeClassifier\n",
    "from sklearn.model_selection import GridSearchCV, RandomizedSearchCV\n",
    "\n",
    "from functions_for_titanik import make_prediction_file"
   ]
  },
  {
   "cell_type": "code",
   "execution_count": null,
   "metadata": {},
   "outputs": [],
   "source": [
    "#Path to data\n",
    "\n",
    "PATH_TO_X_SAMPLE = \"X_sample.csv\"\n",
    "PATH_TO_Y_SAMPLE = \"y_sample.csv\""
   ]
  },
  {
   "cell_type": "code",
   "execution_count": null,
   "metadata": {},
   "outputs": [],
   "source": [
    "#Loading data\n",
    "\n",
    "X_sample = pd.read_csv(PATH_TO_X_SAMPLE, index_col=\"PassengerId\")\n",
    "y_sample = pd.read_csv(PATH_TO_Y_SAMPLE, index_col=\"PassengerId\")"
   ]
  },
  {
   "cell_type": "code",
   "execution_count": null,
   "metadata": {},
   "outputs": [],
   "source": []
  }
 ],
 "metadata": {
  "language_info": {
   "name": "python"
  }
 },
 "nbformat": 4,
 "nbformat_minor": 2
}
