{
 "cells": [
  {
   "cell_type": "code",
   "execution_count": 205,
   "metadata": {},
   "outputs": [
    {
     "data": {
      "text/plain": [
       "'It is decision of \"Titanik\" from Kaggle: \"https://www.kaggle.com/competitions/titanic\".'"
      ]
     },
     "execution_count": 205,
     "metadata": {},
     "output_type": "execute_result"
    }
   ],
   "source": [
    "'''It is decision of \"Titanik\" from Kaggle: \"https://www.kaggle.com/competitions/titanic\".'''"
   ]
  },
  {
   "cell_type": "code",
   "execution_count": 206,
   "metadata": {},
   "outputs": [],
   "source": [
    "import pandas as pd\n",
    "\n",
    "from matplotlib import pyplot as plt\n",
    "import seaborn as sns\n",
    "\n",
    "from functions_for_titanik import *"
   ]
  },
  {
   "cell_type": "code",
   "execution_count": 207,
   "metadata": {},
   "outputs": [],
   "source": [
    "#Path to data\n",
    "\n",
    "PATH_TO_TRAIN = \"kaggle_data/train.csv\"\n",
    "PATH_TO_TEST = \"kaggle_data/test.csv\""
   ]
  },
  {
   "cell_type": "code",
   "execution_count": 208,
   "metadata": {},
   "outputs": [],
   "source": [
    "#Loading data\n",
    "\n",
    "train_data = pd.read_csv(PATH_TO_TRAIN, index_col=\"PassengerId\") # Training sample\n",
    "test_data = pd.read_csv(PATH_TO_TEST, index_col=\"PassengerId\")   # Test sample"
   ]
  },
  {
   "cell_type": "code",
   "execution_count": 209,
   "metadata": {},
   "outputs": [],
   "source": [
    "#Checking the data status #1\n",
    "# print(\"train_data:\")\n",
    "# train_data.info()\n",
    "# print(\" \\ntest_data:\")\n",
    "# test_data.info()"
   ]
  },
  {
   "cell_type": "code",
   "execution_count": 210,
   "metadata": {},
   "outputs": [],
   "source": [
    "#Drop useless columns\n",
    "\n",
    "useless_columns = [\"Name\", \"Ticket\", \"Cabin\"] #There is very little data in the \"Cabin\"\n",
    "\n",
    "train_data_clean = train_data.drop(columns=useless_columns)\n",
    "test_data_clean = test_data.drop(columns=useless_columns)"
   ]
  },
  {
   "cell_type": "code",
   "execution_count": 211,
   "metadata": {},
   "outputs": [],
   "source": [
    "#Inputing NaN data\n",
    "\n",
    "train_data_full = inpute_data(train_data_clean)\n",
    "test_data_full = inpute_data(test_data_clean)"
   ]
  },
  {
   "cell_type": "code",
   "execution_count": 212,
   "metadata": {},
   "outputs": [],
   "source": [
    "#Checking the data status #2\n",
    "# print(\"train_data_full:\")\n",
    "# train_data_full.info()\n",
    "# print(\" \\ntest_data_full:\")\n",
    "# test_data_full.info()"
   ]
  },
  {
   "cell_type": "code",
   "execution_count": 213,
   "metadata": {},
   "outputs": [],
   "source": [
    "#Data visualization\n",
    "\n",
    "# sns.catplot(data=train_data_full, x=\"Sex\", hue=\"Survived\", kind=\"count\") #Men die more often"
   ]
  },
  {
   "cell_type": "code",
   "execution_count": 214,
   "metadata": {},
   "outputs": [],
   "source": [
    "# sns.catplot(data=train_data_full, x=\"Pclass\", hue=\"Survived\", kind=\"count\") #The poor also die more often"
   ]
  },
  {
   "cell_type": "code",
   "execution_count": 215,
   "metadata": {},
   "outputs": [],
   "source": [
    "# sns.catplot(data=train_data_full, x=\"Pclass\", hue=\"Pclass\", kind=\"count\") #At the same time, the poor were the most"
   ]
  },
  {
   "cell_type": "code",
   "execution_count": 216,
   "metadata": {},
   "outputs": [],
   "source": [
    "# sns.catplot(data=train_data_full, x=\"Pclass\", hue=\"Sex\", kind=\"count\")  #The poor man were the most"
   ]
  },
  {
   "cell_type": "code",
   "execution_count": 217,
   "metadata": {},
   "outputs": [],
   "source": [
    "# sns.catplot(data=train_data_full, x=\"Sex\", y=\"Survived\", hue=\"Sex\", col=\"Pclass\", kind=\"bar\", errorbar=None)  #And the dead among them were the most"
   ]
  },
  {
   "cell_type": "code",
   "execution_count": 218,
   "metadata": {},
   "outputs": [],
   "source": [
    "# Survival also depends on the number of families\n",
    "\n",
    "# sns.catplot(data=train_data_full, x=\"SibSp\", hue=\"Survived\", kind=\"count\") # Here they are siblings/spouses"
   ]
  },
  {
   "cell_type": "code",
   "execution_count": 219,
   "metadata": {},
   "outputs": [],
   "source": [
    "# sns.catplot(data=train_data_full, x=\"Parch\", hue=\"Survived\", kind=\"count\") # Here it's parents/children"
   ]
  },
  {
   "cell_type": "code",
   "execution_count": 220,
   "metadata": {},
   "outputs": [],
   "source": [
    "# Feature Engineering \"SibSp\" and \"Parch\"\n",
    "\n",
    "train_data_full[\"Family_size\"] = train_data_full[\"SibSp\"] + train_data_full[\"Parch\"]\n",
    "test_data_full[\"Family_size\"] = test_data_full[\"SibSp\"] + test_data_full[\"Parch\"]\n",
    "\n",
    "# sns.catplot(data=train_data_full, x=\"Family_size\", hue=\"Survived\", kind=\"count\")"
   ]
  },
  {
   "cell_type": "code",
   "execution_count": 221,
   "metadata": {},
   "outputs": [],
   "source": [
    "# sns.catplot(data=train_data_full, x=\"Family_size\", hue=\"Survived\", col=\"Sex\", kind=\"count\") # Family_size doesn't affect the survival of men"
   ]
  },
  {
   "cell_type": "code",
   "execution_count": 222,
   "metadata": {},
   "outputs": [],
   "source": [
    "#Save data\n",
    "\n",
    "train_data_full.to_csv(\"train_data_full\")\n",
    "test_data_full.to_csv(\"test_data_full\")"
   ]
  },
  {
   "cell_type": "code",
   "execution_count": 223,
   "metadata": {},
   "outputs": [],
   "source": [
    "# Dicision trump\n",
    "\n",
    "simple_pred = (~((test_data_full[\"Sex\"] == \"male\") & (test_data_full[\"Pclass\"] == 3))).astype(int).values"
   ]
  },
  {
   "cell_type": "code",
   "execution_count": 225,
   "metadata": {},
   "outputs": [
    {
     "ename": "NameError",
     "evalue": "name 'make_prediction_file' is not defined",
     "output_type": "error",
     "traceback": [
      "\u001b[1;31m---------------------------------------------------------------------------\u001b[0m",
      "\u001b[1;31mNameError\u001b[0m                                 Traceback (most recent call last)",
      "\u001b[1;32mc:\\Projects\\Titanik-Kaydes\\main.ipynb Cell 20\u001b[0m line \u001b[0;36m1\n\u001b[1;32m----> <a href='vscode-notebook-cell:/c%3A/Projects/Titanik-Kaydes/main.ipynb#Y203sZmlsZQ%3D%3D?line=0'>1</a>\u001b[0m make_prediction_file(simple_pred, test_data, \u001b[39m\"\u001b[39m\u001b[39mtitanik_simple_baseline.csv\u001b[39m\u001b[39m\"\u001b[39m)\n",
      "\u001b[1;31mNameError\u001b[0m: name 'make_prediction_file' is not defined"
     ]
    }
   ],
   "source": [
    "make_prediction_file(simple_pred, test_data, \"titanik_simple_baseline.csv\")"
   ]
  }
 ],
 "metadata": {
  "kernelspec": {
   "display_name": "Python 3",
   "language": "python",
   "name": "python3"
  },
  "language_info": {
   "codemirror_mode": {
    "name": "ipython",
    "version": 3
   },
   "file_extension": ".py",
   "mimetype": "text/x-python",
   "name": "python",
   "nbconvert_exporter": "python",
   "pygments_lexer": "ipython3",
   "version": "3.11.2"
  },
  "orig_nbformat": 4
 },
 "nbformat": 4,
 "nbformat_minor": 2
}
